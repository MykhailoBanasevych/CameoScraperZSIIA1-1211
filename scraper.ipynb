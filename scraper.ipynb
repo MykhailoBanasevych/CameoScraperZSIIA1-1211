{
 "cells": [
  {
   "attachments": {},
   "cell_type": "markdown",
   "metadata": {},
   "source": [
    "# Ceno Scraper\n"
   ]
  },
  {
   "attachments": {},
   "cell_type": "markdown",
   "metadata": {},
   "source": [
    "## Components of single opinion\n",
    "| Component|Selector|Variable|\n",
    "|----------|--------|--------|\n",
    "| Opinion ID| [\"data-entry-id\"] | opinion_id       |\n",
    "| Opinion’s author  | span.user-post__author-name | author |\n",
    "| Author’s recommendation | span.user-post__author-recomendation > em | recommendation |\n",
    "| Score expressed in number of stars | span.user-post_score-count | score |\n",
    "| Opinion’s content | div.user-post__text | content |\n",
    "| List of product advantages | div.review-feature__title--positives ~ div.review-feature_item | pros |\n",
    "| List of product disadvantages | div.review-feature__title--negatives ~ div.review-feature_item | cons |\n",
    "| How many users think that opinion was helpful | span[votes-yes^=\"votes-yes\"] | helpful |\n",
    "| How many users think that opinion was unhelpful | span[votes-no^=\"votes-no\"] | unhelpful |\n",
    "| Publishing date | span.user-post__published > time:nth-child(1)[\"datetime\"] | publish_date |\n",
    "| Purchase date | span.user-post__published > time:nth-child(2)[\"datetime\"]  | purchase_date |"
   ]
  },
  {
   "attachments": {},
   "cell_type": "markdown",
   "metadata": {},
   "source": [
    "## Structure of single opinion"
   ]
  },
  {
   "cell_type": "code",
   "execution_count": 78,
   "metadata": {},
   "outputs": [],
   "source": [
    "selectors = {\n",
    "\n",
    "\n",
    "\"opinion_id\" : [None,\"data-entry-id\"],\n",
    "\"author\" : [\"span.user-post__author-name\"],\n",
    "\"recommendation\" : [\"span.user-post__author-recomendation > em\"],\n",
    "\"score\" : [\"span.user-post__score-count\"],\n",
    "\"content\" : [\"div.user-post__text\"],\n",
    "\"pros\" : [\"div.review-feature__title--positives ~ div.review-feature__item\", None, True],\n",
    "\"cons\" : [\"div.review-feature__title--negatives ~ div.review-feature__item\", None, True],\n",
    "\"helpful\" : [\"button.vote-yes > span\"],\n",
    "\"unhelpful\" : [\"button.vote-no > span\"],\n",
    "\"publish_date\" : [\"span.user-post__published > time:nth-child(1)\",\"datetime\"],\n",
    "\"purchase_date\" : [\"span.user-post__published > time:nth-child(2)\",\"datetime\"],\n",
    "}"
   ]
  },
  {
   "attachments": {},
   "cell_type": "markdown",
   "metadata": {},
   "source": [
    "## Loading Libraries"
   ]
  },
  {
   "cell_type": "code",
   "execution_count": 79,
   "metadata": {},
   "outputs": [],
   "source": [
    "import requests\n",
    "from bs4 import BeautifulSoup"
   ]
  },
  {
   "attachments": {},
   "cell_type": "markdown",
   "metadata": {},
   "source": [
    "## Function to extract data from HTML code"
   ]
  },
  {
   "cell_type": "code",
   "execution_count": 80,
   "metadata": {},
   "outputs": [],
   "source": [
    "def extract(ancestor, selector=None, attribute = None, return_list=False):\n",
    "    if return_list:\n",
    "        if attribute:\n",
    "            return [tag[attribute] for tag in ancestor.select(selector)]\n",
    "        return [tag.get_text().strip() for tag in ancestor.select(selector)]\n",
    "    if selector:\n",
    "        if attribute:\n",
    "            try:\n",
    "                return ancestor.select_one(selector)[attribute]\n",
    "            except TypeError:\n",
    "                return None\n",
    "            try:\n",
    "                return opinion.select_one(selector).get_text().strip()\n",
    "            except AttributeError:\n",
    "                return None\n",
    "    if attribute:\n",
    "        return ancestor[attribute]\n",
    "    return ancestor.get_text().strip()\n",
    "    "
   ]
  },
  {
   "attachments": {},
   "cell_type": "markdown",
   "metadata": {},
   "source": [
    "## Sending Requests to Cameo.pl server"
   ]
  },
  {
   "cell_type": "code",
   "execution_count": 81,
   "metadata": {},
   "outputs": [],
   "source": [
    "product_id = \"58758308\"\n",
    "url = f\"https://www.ceneo.pl/{product_id}#tab=reviews\"\n",
    "response = requests.get(url)"
   ]
  },
  {
   "attachments": {},
   "cell_type": "markdown",
   "metadata": {},
   "source": [
    "## Extracting opinions from HTML code"
   ]
  },
  {
   "cell_type": "code",
   "execution_count": 82,
   "metadata": {},
   "outputs": [],
   "source": [
    "page_dom = BeautifulSoup(response.text, \"html.parser\")\n",
    "opinions = page_dom.select(\"div.js_product-review\")\n",
    "opinion = page_dom.select_one(\"div.js_product-review\")"
   ]
  },
  {
   "attachments": {},
   "cell_type": "markdown",
   "metadata": {},
   "source": [
    "## Extracting components for single opinion"
   ]
  },
  {
   "cell_type": "code",
   "execution_count": 83,
   "metadata": {},
   "outputs": [],
   "source": [
    "single_opinion = {\n",
    "    key: extract(opinion, *value)\n",
    "        for key, value in selectors.items()\n",
    "}"
   ]
  }
 ],
 "metadata": {
  "kernelspec": {
   "display_name": ".venv",
   "language": "python",
   "name": "python3"
  },
  "language_info": {
   "codemirror_mode": {
    "name": "ipython",
    "version": 3
   },
   "file_extension": ".py",
   "mimetype": "text/x-python",
   "name": "python",
   "nbconvert_exporter": "python",
   "pygments_lexer": "ipython3",
   "version": "3.11.4"
  },
  "orig_nbformat": 4
 },
 "nbformat": 4,
 "nbformat_minor": 2
}
