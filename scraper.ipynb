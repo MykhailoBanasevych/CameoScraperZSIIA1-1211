{
 "cells": [
  {
   "attachments": {},
   "cell_type": "markdown",
   "metadata": {},
   "source": [
    "# Ceno Scraper\n"
   ]
  },
  {
   "attachments": {},
   "cell_type": "markdown",
   "metadata": {},
   "source": [
    "## Loading Libraries"
   ]
  },
  {
   "cell_type": "code",
   "execution_count": 9,
   "metadata": {},
   "outputs": [],
   "source": [
    "import requests\n",
    "from bs4 import BeautifulSoup"
   ]
  },
  {
   "attachments": {},
   "cell_type": "markdown",
   "metadata": {},
   "source": [
    "## Send Requests to Cameo.pl server"
   ]
  },
  {
   "cell_type": "code",
   "execution_count": null,
   "metadata": {},
   "outputs": [],
   "source": [
    "product_id = \"58758308\"\n",
    "url = f\"https://www.ceneo.pl/{product_id}#tab=reviews\"\n",
    "response = requests.get(url)\n",
    "print(type(response.text))"
   ]
  },
  {
   "cell_type": "code",
   "execution_count": null,
   "metadata": {},
   "outputs": [],
   "source": [
    "page_dom = BeautifulSoup(response.text, \"html.parser\")\n",
    "opinions = page_dom.select(\"div.js_product-review\")\n",
    "opinion = page_dom.select_one(\"div.js_product-review\")\n",
    "print(type(page_dom))\n",
    "print(type(opinions))\n",
    "print(type(opinion))\n",
    "print(opinion)"
   ]
  },
  {
   "attachments": {},
   "cell_type": "markdown",
   "metadata": {},
   "source": [
    "## Extraction od components of single opinion\n",
    "| Component|Selector|Variable|\n",
    "|----------|--------|--------|\n",
    "| Opinion ID| [\"data-entry-id\"] | opinion_id       |\n",
    "| Opinion’s author  | span.user-post__author-name | author |\n",
    "| Author’s recommendation | span.user-post__author-recomendation > em | recommendation |\n",
    "| Score expressed in number of stars | span.user-post_score-count | score |\n",
    "| Opinion’s content | div.user-post__text | content |\n",
    "| List of product advantages | div.review-feature__title--positives ~ div.review-feature_item | pros |\n",
    "| List of product disadvantages | div.review-feature__title--negatives ~ div.review-feature_item | cons |\n",
    "| How many users think that opinion was helpful | span[votes-yes^=\"votes-yes\"] | helpful |\n",
    "| How many users think that opinion was unhelpful | span[votes-no^=\"votes-no\"] | unhelpful |\n",
    "| Publishing date | span.user-post__published > time:nth-child(1)[\"datetime\"] | publish_date |\n",
    "| Purchase date | span.user-post__published > time:nth-child(2)[\"datetime\"]  | purchase_date |"
   ]
  },
  {
   "attachments": {},
   "cell_type": "markdown",
   "metadata": {},
   "source": []
  }
 ],
 "metadata": {
  "kernelspec": {
   "display_name": ".venv",
   "language": "python",
   "name": "python3"
  },
  "language_info": {
   "codemirror_mode": {
    "name": "ipython",
    "version": 3
   },
   "file_extension": ".py",
   "mimetype": "text/x-python",
   "name": "python",
   "nbconvert_exporter": "python",
   "pygments_lexer": "ipython3",
   "version": "3.11.4"
  },
  "orig_nbformat": 4
 },
 "nbformat": 4,
 "nbformat_minor": 2
}
